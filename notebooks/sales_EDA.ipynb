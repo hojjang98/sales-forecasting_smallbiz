{
 "cells": [
  {
   "cell_type": "markdown",
   "id": "acba4fbb",
   "metadata": {},
   "source": [
    "Loading the dataset"
   ]
  },
  {
   "cell_type": "code",
   "execution_count": 43,
   "id": "ebb958f9",
   "metadata": {},
   "outputs": [],
   "source": [
    "import matplotlib.pyplot as plt\n",
    "import matplotlib.font_manager as fm\n",
    "\n",
    "# 💬 Set Korean font (Malgun Gothic)\n",
    "plt.rc('font', family='Malgun Gothic')\n",
    "\n",
    "# 📉 Prevent minus sign from breaking\n",
    "plt.rcParams['axes.unicode_minus'] = False\n"
   ]
  },
  {
   "cell_type": "code",
   "execution_count": 8,
   "id": "554a12c5",
   "metadata": {},
   "outputs": [],
   "source": [
    "import pandas as pd"
   ]
  },
  {
   "cell_type": "code",
   "execution_count": 9,
   "id": "401827ed",
   "metadata": {},
   "outputs": [],
   "source": [
    "data_path = r\"C:\\Users\\ghwns\\HJ_git\\sales-forecasting_smallbiz\\data\\sales-forcasting-smallbiz.xlsx\""
   ]
  },
  {
   "cell_type": "code",
   "execution_count": 10,
   "id": "e3ef3766",
   "metadata": {},
   "outputs": [],
   "source": [
    "df = pd.read_excel(data_path)"
   ]
  },
  {
   "cell_type": "markdown",
   "id": "e30ff503",
   "metadata": {},
   "source": [
    "Quick overview and missing value check"
   ]
  },
  {
   "cell_type": "code",
   "execution_count": 12,
   "id": "9f9c48c9",
   "metadata": {},
   "outputs": [
    {
     "name": "stdout",
     "output_type": "stream",
     "text": [
      "<class 'pandas.core.frame.DataFrame'>\n",
      "RangeIndex: 67900 entries, 0 to 67899\n",
      "Data columns (total 53 columns):\n",
      " #   Column           Non-Null Count  Dtype \n",
      "---  ------           --------------  ----- \n",
      " 0   기준_년분기_코드        67900 non-null  int64 \n",
      " 1   행정동_코드           67900 non-null  int64 \n",
      " 2   행정동_코드_명         67900 non-null  object\n",
      " 3   서비스_업종_코드        67900 non-null  object\n",
      " 4   서비스_업종_코드_명      67900 non-null  object\n",
      " 5   당월_매출_금액         67900 non-null  int64 \n",
      " 6   당월_매출_건수         67900 non-null  int64 \n",
      " 7   주중_매출_금액         67900 non-null  int64 \n",
      " 8   주말_매출_금액         67900 non-null  int64 \n",
      " 9   월요일_매출_금액        67900 non-null  int64 \n",
      " 10  화요일_매출_금액        67900 non-null  int64 \n",
      " 11  수요일_매출_금액        67900 non-null  int64 \n",
      " 12  목요일_매출_금액        67900 non-null  int64 \n",
      " 13  금요일_매출_금액        67900 non-null  int64 \n",
      " 14  토요일_매출_금액        67900 non-null  int64 \n",
      " 15  일요일_매출_금액        67900 non-null  int64 \n",
      " 16  시간대_00~06_매출_금액  67900 non-null  int64 \n",
      " 17  시간대_06~11_매출_금액  67900 non-null  int64 \n",
      " 18  시간대_11~14_매출_금액  67900 non-null  int64 \n",
      " 19  시간대_14~17_매출_금액  67900 non-null  int64 \n",
      " 20  시간대_17~21_매출_금액  67900 non-null  int64 \n",
      " 21  시간대_21~24_매출_금액  67900 non-null  int64 \n",
      " 22  남성_매출_금액         67900 non-null  int64 \n",
      " 23  여성_매출_금액         67900 non-null  int64 \n",
      " 24  연령대_10_매출_금액     67900 non-null  int64 \n",
      " 25  연령대_20_매출_금액     67900 non-null  int64 \n",
      " 26  연령대_30_매출_금액     67900 non-null  int64 \n",
      " 27  연령대_40_매출_금액     67900 non-null  int64 \n",
      " 28  연령대_50_매출_금액     67900 non-null  int64 \n",
      " 29  연령대_60_이상_매출_금액  67900 non-null  int64 \n",
      " 30  주중_매출_건수         67900 non-null  int64 \n",
      " 31  주말_매출_건수         67900 non-null  int64 \n",
      " 32  월요일_매출_건수        67900 non-null  int64 \n",
      " 33  화요일_매출_건수        67900 non-null  int64 \n",
      " 34  수요일_매출_건수        67900 non-null  int64 \n",
      " 35  목요일_매출_건수        67900 non-null  int64 \n",
      " 36  금요일_매출_건수        67900 non-null  int64 \n",
      " 37  토요일_매출_건수        67900 non-null  int64 \n",
      " 38  일요일_매출_건수        67900 non-null  int64 \n",
      " 39  시간대_건수~06_매출_건수  67900 non-null  int64 \n",
      " 40  시간대_건수~11_매출_건수  67900 non-null  int64 \n",
      " 41  시간대_건수~14_매출_건수  67900 non-null  int64 \n",
      " 42  시간대_건수~17_매출_건수  67900 non-null  int64 \n",
      " 43  시간대_건수~21_매출_건수  67900 non-null  int64 \n",
      " 44  시간대_건수~24_매출_건수  67900 non-null  int64 \n",
      " 45  남성_매출_건수         67900 non-null  int64 \n",
      " 46  여성_매출_건수         67900 non-null  int64 \n",
      " 47  연령대_10_매출_건수     67900 non-null  int64 \n",
      " 48  연령대_20_매출_건수     67900 non-null  int64 \n",
      " 49  연령대_30_매출_건수     67900 non-null  int64 \n",
      " 50  연령대_40_매출_건수     67900 non-null  int64 \n",
      " 51  연령대_50_매출_건수     67900 non-null  int64 \n",
      " 52  연령대_60_이상_매출_건수  67900 non-null  int64 \n",
      "dtypes: int64(50), object(3)\n",
      "memory usage: 27.5+ MB\n"
     ]
    }
   ],
   "source": [
    "df.info()"
   ]
  },
  {
   "cell_type": "code",
   "execution_count": 16,
   "id": "d2da1776",
   "metadata": {
    "scrolled": true
   },
   "outputs": [
    {
     "data": {
      "text/plain": [
       "기준_년분기_코드          0\n",
       "행정동_코드             0\n",
       "행정동_코드_명           0\n",
       "서비스_업종_코드          0\n",
       "서비스_업종_코드_명        0\n",
       "당월_매출_금액           0\n",
       "당월_매출_건수           0\n",
       "주중_매출_금액           0\n",
       "주말_매출_금액           0\n",
       "월요일_매출_금액          0\n",
       "화요일_매출_금액          0\n",
       "수요일_매출_금액          0\n",
       "목요일_매출_금액          0\n",
       "금요일_매출_금액          0\n",
       "토요일_매출_금액          0\n",
       "일요일_매출_금액          0\n",
       "시간대_00~06_매출_금액    0\n",
       "시간대_06~11_매출_금액    0\n",
       "시간대_11~14_매출_금액    0\n",
       "시간대_14~17_매출_금액    0\n",
       "시간대_17~21_매출_금액    0\n",
       "시간대_21~24_매출_금액    0\n",
       "남성_매출_금액           0\n",
       "여성_매출_금액           0\n",
       "연령대_10_매출_금액       0\n",
       "연령대_20_매출_금액       0\n",
       "연령대_30_매출_금액       0\n",
       "연령대_40_매출_금액       0\n",
       "연령대_50_매출_금액       0\n",
       "연령대_60_이상_매출_금액    0\n",
       "주중_매출_건수           0\n",
       "주말_매출_건수           0\n",
       "월요일_매출_건수          0\n",
       "화요일_매출_건수          0\n",
       "수요일_매출_건수          0\n",
       "목요일_매출_건수          0\n",
       "금요일_매출_건수          0\n",
       "토요일_매출_건수          0\n",
       "일요일_매출_건수          0\n",
       "시간대_건수~06_매출_건수    0\n",
       "시간대_건수~11_매출_건수    0\n",
       "시간대_건수~14_매출_건수    0\n",
       "시간대_건수~17_매출_건수    0\n",
       "시간대_건수~21_매출_건수    0\n",
       "시간대_건수~24_매출_건수    0\n",
       "남성_매출_건수           0\n",
       "여성_매출_건수           0\n",
       "연령대_10_매출_건수       0\n",
       "연령대_20_매출_건수       0\n",
       "연령대_30_매출_건수       0\n",
       "연령대_40_매출_건수       0\n",
       "연령대_50_매출_건수       0\n",
       "연령대_60_이상_매출_건수    0\n",
       "dtype: int64"
      ]
     },
     "execution_count": 16,
     "metadata": {},
     "output_type": "execute_result"
    }
   ],
   "source": [
    "df.isnull().sum()"
   ]
  },
  {
   "cell_type": "markdown",
   "id": "2adadc8c",
   "metadata": {},
   "source": [
    "Starting EDA"
   ]
  },
  {
   "cell_type": "code",
   "execution_count": 30,
   "id": "e14af384",
   "metadata": {},
   "outputs": [],
   "source": [
    "df_subset = df[[\"기준_년분기_코드\", \"행정동_코드_명\", \"당월_매출_금액\", \"서비스_업종_코드_명\"]].copy()  # Extract relevant columns"
   ]
  },
  {
   "cell_type": "code",
   "execution_count": 31,
   "id": "76656fba",
   "metadata": {},
   "outputs": [],
   "source": [
    "df_grouped = df_subset.groupby([\"기준_년분기_코드\", \"행정동_코드_명\", \"서비스_업종_코드_명\"])[\"당월_매출_금액\"].sum().reset_index()"
   ]
  },
  {
   "cell_type": "code",
   "execution_count": 32,
   "id": "b0423c91",
   "metadata": {},
   "outputs": [],
   "source": [
    "df_grouped = df_grouped.sort_values(by = [\"기준_년분기_코드\", \"당월_매출_금액\"], ascending = True)"
   ]
  },
  {
   "cell_type": "code",
   "execution_count": 36,
   "id": "fe3d0bb6",
   "metadata": {},
   "outputs": [
    {
     "data": {
      "text/html": [
       "<div>\n",
       "<style scoped>\n",
       "    .dataframe tbody tr th:only-of-type {\n",
       "        vertical-align: middle;\n",
       "    }\n",
       "\n",
       "    .dataframe tbody tr th {\n",
       "        vertical-align: top;\n",
       "    }\n",
       "\n",
       "    .dataframe thead th {\n",
       "        text-align: right;\n",
       "    }\n",
       "</style>\n",
       "<table border=\"1\" class=\"dataframe\">\n",
       "  <thead>\n",
       "    <tr style=\"text-align: right;\">\n",
       "      <th></th>\n",
       "      <th>기준_년분기_코드</th>\n",
       "      <th>행정동_코드_명</th>\n",
       "      <th>서비스_업종_코드_명</th>\n",
       "      <th>당월_매출_금액</th>\n",
       "    </tr>\n",
       "  </thead>\n",
       "  <tbody>\n",
       "    <tr>\n",
       "      <th>50897</th>\n",
       "      <td>20244</td>\n",
       "      <td>가락1동</td>\n",
       "      <td>반찬가게</td>\n",
       "      <td>322179543735</td>\n",
       "    </tr>\n",
       "    <tr>\n",
       "      <th>66600</th>\n",
       "      <td>20244</td>\n",
       "      <td>한강로동</td>\n",
       "      <td>컴퓨터및주변장치판매</td>\n",
       "      <td>409043919885</td>\n",
       "    </tr>\n",
       "    <tr>\n",
       "      <th>51071</th>\n",
       "      <td>20244</td>\n",
       "      <td>가산동</td>\n",
       "      <td>일반의류</td>\n",
       "      <td>521537847732</td>\n",
       "    </tr>\n",
       "    <tr>\n",
       "      <th>64832</th>\n",
       "      <td>20244</td>\n",
       "      <td>제기동</td>\n",
       "      <td>청과상</td>\n",
       "      <td>643028358702</td>\n",
       "    </tr>\n",
       "    <tr>\n",
       "      <th>53098</th>\n",
       "      <td>20244</td>\n",
       "      <td>노량진2동</td>\n",
       "      <td>수산물판매</td>\n",
       "      <td>840991939297</td>\n",
       "    </tr>\n",
       "  </tbody>\n",
       "</table>\n",
       "</div>"
      ],
      "text/plain": [
       "       기준_년분기_코드 행정동_코드_명 서비스_업종_코드_명      당월_매출_금액\n",
       "50897      20244     가락1동        반찬가게  322179543735\n",
       "66600      20244     한강로동  컴퓨터및주변장치판매  409043919885\n",
       "51071      20244      가산동        일반의류  521537847732\n",
       "64832      20244      제기동         청과상  643028358702\n",
       "53098      20244    노량진2동       수산물판매  840991939297"
      ]
     },
     "execution_count": 36,
     "metadata": {},
     "output_type": "execute_result"
    }
   ],
   "source": [
    "df_grouped.tail()"
   ]
  },
  {
   "cell_type": "markdown",
   "id": "67f68f33",
   "metadata": {},
   "source": [
    "시각화"
   ]
  },
  {
   "cell_type": "code",
   "execution_count": 42,
   "id": "5d0944d0",
   "metadata": {},
   "outputs": [],
   "source": [
    "import matplotlib.pyplot as plt\n",
    "\n",
    "plt.rc('font', family='Malgun Gothic')  # 한글 글꼴 설정\n",
    "plt.rcParams['axes.unicode_minus'] = False  # 마이너스 깨짐 방지"
   ]
  },
  {
   "cell_type": "code",
   "execution_count": 37,
   "id": "ff5ce58e",
   "metadata": {},
   "outputs": [
    {
     "data": {
      "text/html": [
       "<div>\n",
       "<style scoped>\n",
       "    .dataframe tbody tr th:only-of-type {\n",
       "        vertical-align: middle;\n",
       "    }\n",
       "\n",
       "    .dataframe tbody tr th {\n",
       "        vertical-align: top;\n",
       "    }\n",
       "\n",
       "    .dataframe thead th {\n",
       "        text-align: right;\n",
       "    }\n",
       "</style>\n",
       "<table border=\"1\" class=\"dataframe\">\n",
       "  <thead>\n",
       "    <tr style=\"text-align: right;\">\n",
       "      <th></th>\n",
       "      <th>기준_년분기_코드</th>\n",
       "      <th>행정동_코드_명</th>\n",
       "      <th>서비스_업종_코드_명</th>\n",
       "      <th>당월_매출_금액</th>\n",
       "    </tr>\n",
       "  </thead>\n",
       "  <tbody>\n",
       "    <tr>\n",
       "      <th>53098</th>\n",
       "      <td>20244</td>\n",
       "      <td>노량진2동</td>\n",
       "      <td>수산물판매</td>\n",
       "      <td>840991939297</td>\n",
       "    </tr>\n",
       "    <tr>\n",
       "      <th>64832</th>\n",
       "      <td>20244</td>\n",
       "      <td>제기동</td>\n",
       "      <td>청과상</td>\n",
       "      <td>643028358702</td>\n",
       "    </tr>\n",
       "    <tr>\n",
       "      <th>51071</th>\n",
       "      <td>20244</td>\n",
       "      <td>가산동</td>\n",
       "      <td>일반의류</td>\n",
       "      <td>521537847732</td>\n",
       "    </tr>\n",
       "    <tr>\n",
       "      <th>66600</th>\n",
       "      <td>20244</td>\n",
       "      <td>한강로동</td>\n",
       "      <td>컴퓨터및주변장치판매</td>\n",
       "      <td>409043919885</td>\n",
       "    </tr>\n",
       "    <tr>\n",
       "      <th>50897</th>\n",
       "      <td>20244</td>\n",
       "      <td>가락1동</td>\n",
       "      <td>반찬가게</td>\n",
       "      <td>322179543735</td>\n",
       "    </tr>\n",
       "    <tr>\n",
       "      <th>53058</th>\n",
       "      <td>20244</td>\n",
       "      <td>노량진1동</td>\n",
       "      <td>수산물판매</td>\n",
       "      <td>307635301739</td>\n",
       "    </tr>\n",
       "    <tr>\n",
       "      <th>64915</th>\n",
       "      <td>20244</td>\n",
       "      <td>종로1·2·3·4가동</td>\n",
       "      <td>시계및귀금속</td>\n",
       "      <td>213400554179</td>\n",
       "    </tr>\n",
       "    <tr>\n",
       "      <th>64181</th>\n",
       "      <td>20244</td>\n",
       "      <td>잠실6동</td>\n",
       "      <td>일반의류</td>\n",
       "      <td>182403461000</td>\n",
       "    </tr>\n",
       "    <tr>\n",
       "      <th>54248</th>\n",
       "      <td>20244</td>\n",
       "      <td>독산1동</td>\n",
       "      <td>육류판매</td>\n",
       "      <td>161198998260</td>\n",
       "    </tr>\n",
       "    <tr>\n",
       "      <th>66564</th>\n",
       "      <td>20244</td>\n",
       "      <td>한강로동</td>\n",
       "      <td>가전제품</td>\n",
       "      <td>149685260484</td>\n",
       "    </tr>\n",
       "  </tbody>\n",
       "</table>\n",
       "</div>"
      ],
      "text/plain": [
       "       기준_년분기_코드     행정동_코드_명 서비스_업종_코드_명      당월_매출_금액\n",
       "53098      20244        노량진2동       수산물판매  840991939297\n",
       "64832      20244          제기동         청과상  643028358702\n",
       "51071      20244          가산동        일반의류  521537847732\n",
       "66600      20244         한강로동  컴퓨터및주변장치판매  409043919885\n",
       "50897      20244         가락1동        반찬가게  322179543735\n",
       "53058      20244        노량진1동       수산물판매  307635301739\n",
       "64915      20244  종로1·2·3·4가동      시계및귀금속  213400554179\n",
       "64181      20244         잠실6동        일반의류  182403461000\n",
       "54248      20244         독산1동        육류판매  161198998260\n",
       "66564      20244         한강로동        가전제품  149685260484"
      ]
     },
     "execution_count": 37,
     "metadata": {},
     "output_type": "execute_result"
    }
   ],
   "source": [
    "# 예: 특정 분기에서 가장 매출 높은 업종 Top 10\n",
    "top10_services = df_grouped[df_grouped['기준_년분기_코드'] == 20244]\\\n",
    "                    .sort_values(by='당월_매출_금액', ascending=False)\\\n",
    "                    .head(10)\n",
    "\n",
    "top10_services"
   ]
  },
  {
   "cell_type": "code",
   "execution_count": 48,
   "id": "1b928a00",
   "metadata": {
    "scrolled": true
   },
   "outputs": [
    {
     "data": {
      "image/png": "[encoded data removed]",
      "text/plain": [
       "<Figure size 1000x600 with 1 Axes>"
      ]
     },
     "metadata": {},
     "output_type": "display_data"
    }
   ],
   "source": [
    "import seaborn as sns\n",
    "import matplotlib.pyplot as plt\n",
    "\n",
    "\n",
    "plt.figure(figsize=(10, 6))\n",
    "sns.barplot(data=top10_services, y='서비스_업종_코드_명', x='당월_매출_금액')\n",
    "plt.title(\"2024년 4분기 업종별 매출 Top 10\")\n",
    "plt.xlabel(\"매출 금액\")\n",
    "plt.ylabel(\"업종\")\n",
    "plt.tight_layout()\n",
    "plt.show()"
   ]
  },
  {
   "cell_type": "code",
   "execution_count": 45,
   "id": "63da32b7",
   "metadata": {},
   "outputs": [],
   "source": [
    "df_grouped = df_grouped.sort_values(by = [\"당월_매출_금액\"], ascending = True)"
   ]
  },
  {
   "cell_type": "code",
   "execution_count": 46,
   "id": "05a61626",
   "metadata": {
    "scrolled": true
   },
   "outputs": [
    {
     "data": {
      "text/html": [
       "<div>\n",
       "<style scoped>\n",
       "    .dataframe tbody tr th:only-of-type {\n",
       "        vertical-align: middle;\n",
       "    }\n",
       "\n",
       "    .dataframe tbody tr th {\n",
       "        vertical-align: top;\n",
       "    }\n",
       "\n",
       "    .dataframe thead th {\n",
       "        text-align: right;\n",
       "    }\n",
       "</style>\n",
       "<table border=\"1\" class=\"dataframe\">\n",
       "  <thead>\n",
       "    <tr style=\"text-align: right;\">\n",
       "      <th></th>\n",
       "      <th>기준_년분기_코드</th>\n",
       "      <th>행정동_코드_명</th>\n",
       "      <th>서비스_업종_코드_명</th>\n",
       "      <th>당월_매출_금액</th>\n",
       "    </tr>\n",
       "  </thead>\n",
       "  <tbody>\n",
       "    <tr>\n",
       "      <th>8690</th>\n",
       "      <td>20241</td>\n",
       "      <td>송천동</td>\n",
       "      <td>가구</td>\n",
       "      <td>577</td>\n",
       "    </tr>\n",
       "    <tr>\n",
       "      <th>32281</th>\n",
       "      <td>20242</td>\n",
       "      <td>천호3동</td>\n",
       "      <td>가전제품수리</td>\n",
       "      <td>630</td>\n",
       "    </tr>\n",
       "    <tr>\n",
       "      <th>59232</th>\n",
       "      <td>20244</td>\n",
       "      <td>성수2가1동</td>\n",
       "      <td>가구</td>\n",
       "      <td>1145</td>\n",
       "    </tr>\n",
       "    <tr>\n",
       "      <th>38289</th>\n",
       "      <td>20243</td>\n",
       "      <td>면목7동</td>\n",
       "      <td>자동차미용</td>\n",
       "      <td>1216</td>\n",
       "    </tr>\n",
       "    <tr>\n",
       "      <th>46187</th>\n",
       "      <td>20243</td>\n",
       "      <td>원효로1동</td>\n",
       "      <td>핸드폰</td>\n",
       "      <td>3460</td>\n",
       "    </tr>\n",
       "    <tr>\n",
       "      <th>...</th>\n",
       "      <td>...</td>\n",
       "      <td>...</td>\n",
       "      <td>...</td>\n",
       "      <td>...</td>\n",
       "    </tr>\n",
       "    <tr>\n",
       "      <th>64832</th>\n",
       "      <td>20244</td>\n",
       "      <td>제기동</td>\n",
       "      <td>청과상</td>\n",
       "      <td>643028358702</td>\n",
       "    </tr>\n",
       "    <tr>\n",
       "      <th>36203</th>\n",
       "      <td>20243</td>\n",
       "      <td>노량진2동</td>\n",
       "      <td>수산물판매</td>\n",
       "      <td>644703384404</td>\n",
       "    </tr>\n",
       "    <tr>\n",
       "      <th>19226</th>\n",
       "      <td>20242</td>\n",
       "      <td>노량진2동</td>\n",
       "      <td>수산물판매</td>\n",
       "      <td>679979678056</td>\n",
       "    </tr>\n",
       "    <tr>\n",
       "      <th>2212</th>\n",
       "      <td>20241</td>\n",
       "      <td>노량진2동</td>\n",
       "      <td>수산물판매</td>\n",
       "      <td>836995049838</td>\n",
       "    </tr>\n",
       "    <tr>\n",
       "      <th>53098</th>\n",
       "      <td>20244</td>\n",
       "      <td>노량진2동</td>\n",
       "      <td>수산물판매</td>\n",
       "      <td>840991939297</td>\n",
       "    </tr>\n",
       "  </tbody>\n",
       "</table>\n",
       "<p>67724 rows × 4 columns</p>\n",
       "</div>"
      ],
      "text/plain": [
       "       기준_년분기_코드 행정동_코드_명 서비스_업종_코드_명      당월_매출_금액\n",
       "8690       20241      송천동          가구           577\n",
       "32281      20242     천호3동      가전제품수리           630\n",
       "59232      20244   성수2가1동          가구          1145\n",
       "38289      20243     면목7동       자동차미용          1216\n",
       "46187      20243    원효로1동         핸드폰          3460\n",
       "...          ...      ...         ...           ...\n",
       "64832      20244      제기동         청과상  643028358702\n",
       "36203      20243    노량진2동       수산물판매  644703384404\n",
       "19226      20242    노량진2동       수산물판매  679979678056\n",
       "2212       20241    노량진2동       수산물판매  836995049838\n",
       "53098      20244    노량진2동       수산물판매  840991939297\n",
       "\n",
       "[67724 rows x 4 columns]"
      ]
     },
     "execution_count": 46,
     "metadata": {},
     "output_type": "execute_result"
    }
   ],
   "source": [
    "df_grouped"
   ]
  },
  {
   "cell_type": "code",
   "execution_count": null,
   "id": "c6e39f3f",
   "metadata": {},
   "outputs": [],
   "source": []
  }
 ],
 "metadata": {
  "kernelspec": {
   "display_name": "Python 3 (ipykernel)",
   "language": "python",
   "name": "python3"
  },
  "language_info": {
   "codemirror_mode": {
    "name": "ipython",
    "version": 3
   },
   "file_extension": ".py",
   "mimetype": "text/x-python",
   "name": "python",
   "nbconvert_exporter": "python",
   "pygments_lexer": "ipython3",
   "version": "3.11.4"
  }
 },
 "nbformat": 4,
 "nbformat_minor": 5
}
