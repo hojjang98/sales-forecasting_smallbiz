{
 "cells": [
  {
   "cell_type": "markdown",
   "id": "acba4fbb",
   "metadata": {},
   "source": [
    "Loading the dataset"
   ]
  },
  {
   "cell_type": "code",
   "execution_count": 29,
   "id": "ebb958f9",
   "metadata": {},
   "outputs": [],
   "source": [
    "import matplotlib.pyplot as plt\n",
    "import matplotlib.font_manager as fm\n",
    "import pandas as pd\n",
    "import seaborn as sns\n",
    "\n",
    "# 💬 Set Korean font (Malgun Gothic)\n",
    "plt.rc('font', family='Malgun Gothic')\n",
    "\n",
    "# 📉 Prevent minus sign from breaking\n",
    "plt.rcParams['axes.unicode_minus'] = False"
   ]
  },
  {
   "cell_type": "code",
   "execution_count": 30,
   "id": "401827ed",
   "metadata": {},
   "outputs": [],
   "source": [
    "data_path = r\"C:\\Users\\ghwns\\HJ_git\\sales-forecasting_smallbiz\\data\\sales-forcasting-smallbiz.xlsx\""
   ]
  },
  {
   "cell_type": "code",
   "execution_count": 31,
   "id": "e3ef3766",
   "metadata": {},
   "outputs": [],
   "source": [
    "df = pd.read_excel(data_path)"
   ]
  },
  {
   "cell_type": "markdown",
   "id": "e30ff503",
   "metadata": {},
   "source": [
    "Quick overview and missing value check"
   ]
  },
  {
   "cell_type": "code",
   "execution_count": 32,
   "id": "9f9c48c9",
   "metadata": {},
   "outputs": [
    {
     "name": "stdout",
     "output_type": "stream",
     "text": [
      "<class 'pandas.core.frame.DataFrame'>\n",
      "RangeIndex: 67900 entries, 0 to 67899\n",
      "Data columns (total 53 columns):\n",
      " #   Column           Non-Null Count  Dtype \n",
      "---  ------           --------------  ----- \n",
      " 0   기준_년분기_코드        67900 non-null  int64 \n",
      " 1   행정동_코드           67900 non-null  int64 \n",
      " 2   행정동_코드_명         67900 non-null  object\n",
      " 3   서비스_업종_코드        67900 non-null  object\n",
      " 4   서비스_업종_코드_명      67900 non-null  object\n",
      " 5   당월_매출_금액         67900 non-null  int64 \n",
      " 6   당월_매출_건수         67900 non-null  int64 \n",
      " 7   주중_매출_금액         67900 non-null  int64 \n",
      " 8   주말_매출_금액         67900 non-null  int64 \n",
      " 9   월요일_매출_금액        67900 non-null  int64 \n",
      " 10  화요일_매출_금액        67900 non-null  int64 \n",
      " 11  수요일_매출_금액        67900 non-null  int64 \n",
      " 12  목요일_매출_금액        67900 non-null  int64 \n",
      " 13  금요일_매출_금액        67900 non-null  int64 \n",
      " 14  토요일_매출_금액        67900 non-null  int64 \n",
      " 15  일요일_매출_금액        67900 non-null  int64 \n",
      " 16  시간대_00~06_매출_금액  67900 non-null  int64 \n",
      " 17  시간대_06~11_매출_금액  67900 non-null  int64 \n",
      " 18  시간대_11~14_매출_금액  67900 non-null  int64 \n",
      " 19  시간대_14~17_매출_금액  67900 non-null  int64 \n",
      " 20  시간대_17~21_매출_금액  67900 non-null  int64 \n",
      " 21  시간대_21~24_매출_금액  67900 non-null  int64 \n",
      " 22  남성_매출_금액         67900 non-null  int64 \n",
      " 23  여성_매출_금액         67900 non-null  int64 \n",
      " 24  연령대_10_매출_금액     67900 non-null  int64 \n",
      " 25  연령대_20_매출_금액     67900 non-null  int64 \n",
      " 26  연령대_30_매출_금액     67900 non-null  int64 \n",
      " 27  연령대_40_매출_금액     67900 non-null  int64 \n",
      " 28  연령대_50_매출_금액     67900 non-null  int64 \n",
      " 29  연령대_60_이상_매출_금액  67900 non-null  int64 \n",
      " 30  주중_매출_건수         67900 non-null  int64 \n",
      " 31  주말_매출_건수         67900 non-null  int64 \n",
      " 32  월요일_매출_건수        67900 non-null  int64 \n",
      " 33  화요일_매출_건수        67900 non-null  int64 \n",
      " 34  수요일_매출_건수        67900 non-null  int64 \n",
      " 35  목요일_매출_건수        67900 non-null  int64 \n",
      " 36  금요일_매출_건수        67900 non-null  int64 \n",
      " 37  토요일_매출_건수        67900 non-null  int64 \n",
      " 38  일요일_매출_건수        67900 non-null  int64 \n",
      " 39  시간대_건수~06_매출_건수  67900 non-null  int64 \n",
      " 40  시간대_건수~11_매출_건수  67900 non-null  int64 \n",
      " 41  시간대_건수~14_매출_건수  67900 non-null  int64 \n",
      " 42  시간대_건수~17_매출_건수  67900 non-null  int64 \n",
      " 43  시간대_건수~21_매출_건수  67900 non-null  int64 \n",
      " 44  시간대_건수~24_매출_건수  67900 non-null  int64 \n",
      " 45  남성_매출_건수         67900 non-null  int64 \n",
      " 46  여성_매출_건수         67900 non-null  int64 \n",
      " 47  연령대_10_매출_건수     67900 non-null  int64 \n",
      " 48  연령대_20_매출_건수     67900 non-null  int64 \n",
      " 49  연령대_30_매출_건수     67900 non-null  int64 \n",
      " 50  연령대_40_매출_건수     67900 non-null  int64 \n",
      " 51  연령대_50_매출_건수     67900 non-null  int64 \n",
      " 52  연령대_60_이상_매출_건수  67900 non-null  int64 \n",
      "dtypes: int64(50), object(3)\n",
      "memory usage: 27.5+ MB\n"
     ]
    }
   ],
   "source": [
    "df.info()"
   ]
  },
  {
   "cell_type": "code",
   "execution_count": 33,
   "id": "d2da1776",
   "metadata": {
    "scrolled": true
   },
   "outputs": [
    {
     "data": {
      "text/plain": [
       "기준_년분기_코드          0\n",
       "행정동_코드             0\n",
       "행정동_코드_명           0\n",
       "서비스_업종_코드          0\n",
       "서비스_업종_코드_명        0\n",
       "당월_매출_금액           0\n",
       "당월_매출_건수           0\n",
       "주중_매출_금액           0\n",
       "주말_매출_금액           0\n",
       "월요일_매출_금액          0\n",
       "화요일_매출_금액          0\n",
       "수요일_매출_금액          0\n",
       "목요일_매출_금액          0\n",
       "금요일_매출_금액          0\n",
       "토요일_매출_금액          0\n",
       "일요일_매출_금액          0\n",
       "시간대_00~06_매출_금액    0\n",
       "시간대_06~11_매출_금액    0\n",
       "시간대_11~14_매출_금액    0\n",
       "시간대_14~17_매출_금액    0\n",
       "시간대_17~21_매출_금액    0\n",
       "시간대_21~24_매출_금액    0\n",
       "남성_매출_금액           0\n",
       "여성_매출_금액           0\n",
       "연령대_10_매출_금액       0\n",
       "연령대_20_매출_금액       0\n",
       "연령대_30_매출_금액       0\n",
       "연령대_40_매출_금액       0\n",
       "연령대_50_매출_금액       0\n",
       "연령대_60_이상_매출_금액    0\n",
       "주중_매출_건수           0\n",
       "주말_매출_건수           0\n",
       "월요일_매출_건수          0\n",
       "화요일_매출_건수          0\n",
       "수요일_매출_건수          0\n",
       "목요일_매출_건수          0\n",
       "금요일_매출_건수          0\n",
       "토요일_매출_건수          0\n",
       "일요일_매출_건수          0\n",
       "시간대_건수~06_매출_건수    0\n",
       "시간대_건수~11_매출_건수    0\n",
       "시간대_건수~14_매출_건수    0\n",
       "시간대_건수~17_매출_건수    0\n",
       "시간대_건수~21_매출_건수    0\n",
       "시간대_건수~24_매출_건수    0\n",
       "남성_매출_건수           0\n",
       "여성_매출_건수           0\n",
       "연령대_10_매출_건수       0\n",
       "연령대_20_매출_건수       0\n",
       "연령대_30_매출_건수       0\n",
       "연령대_40_매출_건수       0\n",
       "연령대_50_매출_건수       0\n",
       "연령대_60_이상_매출_건수    0\n",
       "dtype: int64"
      ]
     },
     "execution_count": 33,
     "metadata": {},
     "output_type": "execute_result"
    }
   ],
   "source": [
    "df.isnull().sum()"
   ]
  },
  {
   "cell_type": "markdown",
   "id": "2adadc8c",
   "metadata": {},
   "source": [
    "Starting EDA"
   ]
  },
  {
   "cell_type": "markdown",
   "id": "1ac356d7",
   "metadata": {},
   "source": [
    "행정동 + 업종 단위 그룹화 데이터"
   ]
  },
  {
   "cell_type": "code",
   "execution_count": 34,
   "id": "e14af384",
   "metadata": {},
   "outputs": [],
   "source": [
    "df_subset = df[[\"기준_년분기_코드\", \"행정동_코드_명\", \"당월_매출_금액\", \"서비스_업종_코드_명\"]].copy()  # Extract relevant columns"
   ]
  },
  {
   "cell_type": "code",
   "execution_count": 35,
   "id": "76656fba",
   "metadata": {},
   "outputs": [],
   "source": [
    "df_grouped = df_subset.groupby([\"기준_년분기_코드\", \"행정동_코드_명\", \"서비스_업종_코드_명\"])[\"당월_매출_금액\"].sum().reset_index()"
   ]
  },
  {
   "cell_type": "code",
   "execution_count": 36,
   "id": "b0423c91",
   "metadata": {},
   "outputs": [],
   "source": [
    "df_grouped = df_grouped.sort_values(by = [\"기준_년분기_코드\", \"당월_매출_금액\"], ascending = True)"
   ]
  },
  {
   "cell_type": "code",
   "execution_count": 37,
   "id": "fe3d0bb6",
   "metadata": {},
   "outputs": [
    {
     "data": {
      "text/html": [
       "<div>\n",
       "<style scoped>\n",
       "    .dataframe tbody tr th:only-of-type {\n",
       "        vertical-align: middle;\n",
       "    }\n",
       "\n",
       "    .dataframe tbody tr th {\n",
       "        vertical-align: top;\n",
       "    }\n",
       "\n",
       "    .dataframe thead th {\n",
       "        text-align: right;\n",
       "    }\n",
       "</style>\n",
       "<table border=\"1\" class=\"dataframe\">\n",
       "  <thead>\n",
       "    <tr style=\"text-align: right;\">\n",
       "      <th></th>\n",
       "      <th>기준_년분기_코드</th>\n",
       "      <th>행정동_코드_명</th>\n",
       "      <th>서비스_업종_코드_명</th>\n",
       "      <th>당월_매출_금액</th>\n",
       "    </tr>\n",
       "  </thead>\n",
       "  <tbody>\n",
       "    <tr>\n",
       "      <th>8690</th>\n",
       "      <td>20241</td>\n",
       "      <td>송천동</td>\n",
       "      <td>가구</td>\n",
       "      <td>577</td>\n",
       "    </tr>\n",
       "    <tr>\n",
       "      <th>15992</th>\n",
       "      <td>20241</td>\n",
       "      <td>행당1동</td>\n",
       "      <td>완구</td>\n",
       "      <td>7135</td>\n",
       "    </tr>\n",
       "    <tr>\n",
       "      <th>12814</th>\n",
       "      <td>20241</td>\n",
       "      <td>이문2동</td>\n",
       "      <td>피부관리실</td>\n",
       "      <td>8416</td>\n",
       "    </tr>\n",
       "    <tr>\n",
       "      <th>4474</th>\n",
       "      <td>20241</td>\n",
       "      <td>명일1동</td>\n",
       "      <td>전자상거래업</td>\n",
       "      <td>13195</td>\n",
       "    </tr>\n",
       "    <tr>\n",
       "      <th>6914</th>\n",
       "      <td>20241</td>\n",
       "      <td>삼청동</td>\n",
       "      <td>일식음식점</td>\n",
       "      <td>13401</td>\n",
       "    </tr>\n",
       "    <tr>\n",
       "      <th>...</th>\n",
       "      <td>...</td>\n",
       "      <td>...</td>\n",
       "      <td>...</td>\n",
       "      <td>...</td>\n",
       "    </tr>\n",
       "    <tr>\n",
       "      <th>50897</th>\n",
       "      <td>20244</td>\n",
       "      <td>가락1동</td>\n",
       "      <td>반찬가게</td>\n",
       "      <td>322179543735</td>\n",
       "    </tr>\n",
       "    <tr>\n",
       "      <th>66600</th>\n",
       "      <td>20244</td>\n",
       "      <td>한강로동</td>\n",
       "      <td>컴퓨터및주변장치판매</td>\n",
       "      <td>409043919885</td>\n",
       "    </tr>\n",
       "    <tr>\n",
       "      <th>51071</th>\n",
       "      <td>20244</td>\n",
       "      <td>가산동</td>\n",
       "      <td>일반의류</td>\n",
       "      <td>521537847732</td>\n",
       "    </tr>\n",
       "    <tr>\n",
       "      <th>64832</th>\n",
       "      <td>20244</td>\n",
       "      <td>제기동</td>\n",
       "      <td>청과상</td>\n",
       "      <td>643028358702</td>\n",
       "    </tr>\n",
       "    <tr>\n",
       "      <th>53098</th>\n",
       "      <td>20244</td>\n",
       "      <td>노량진2동</td>\n",
       "      <td>수산물판매</td>\n",
       "      <td>840991939297</td>\n",
       "    </tr>\n",
       "  </tbody>\n",
       "</table>\n",
       "<p>67724 rows × 4 columns</p>\n",
       "</div>"
      ],
      "text/plain": [
       "       기준_년분기_코드 행정동_코드_명 서비스_업종_코드_명      당월_매출_금액\n",
       "8690       20241      송천동          가구           577\n",
       "15992      20241     행당1동          완구          7135\n",
       "12814      20241     이문2동       피부관리실          8416\n",
       "4474       20241     명일1동      전자상거래업         13195\n",
       "6914       20241      삼청동       일식음식점         13401\n",
       "...          ...      ...         ...           ...\n",
       "50897      20244     가락1동        반찬가게  322179543735\n",
       "66600      20244     한강로동  컴퓨터및주변장치판매  409043919885\n",
       "51071      20244      가산동        일반의류  521537847732\n",
       "64832      20244      제기동         청과상  643028358702\n",
       "53098      20244    노량진2동       수산물판매  840991939297\n",
       "\n",
       "[67724 rows x 4 columns]"
      ]
     },
     "execution_count": 37,
     "metadata": {},
     "output_type": "execute_result"
    }
   ],
   "source": [
    "df_grouped"
   ]
  },
  {
   "cell_type": "markdown",
   "id": "bb08be9d",
   "metadata": {},
   "source": [
    "분기별 1등 업종은 무엇인가?(전체 동 합산)"
   ]
  },
  {
   "cell_type": "code",
   "execution_count": 38,
   "id": "36b9702c",
   "metadata": {},
   "outputs": [
    {
     "name": "stdout",
     "output_type": "stream",
     "text": [
      "   기준_년분기_코드 서비스_업종_코드_명       당월_매출_금액\n",
      "0      20241       한식음식점  3877994687371\n",
      "1      20242       한식음식점  4053035124812\n",
      "2      20243       한식음식점  3873742135864\n",
      "3      20244       한식음식점  4230012388626\n"
     ]
    }
   ],
   "source": [
    "# 1. 분기 + 업종 기준으로 전국 매출 합계 계산\n",
    "df_quarterly = df_grouped.groupby(['기준_년분기_코드', '서비스_업종_코드_명'])['당월_매출_금액'].sum().reset_index()\n",
    "\n",
    "# 2. 각 분기별로 가장 매출이 높은 업종 추출\n",
    "top_service_per_quarter = df_quarterly.sort_values('당월_매출_금액', ascending=False) \\\n",
    "                                      .groupby('기준_년분기_코드').first().reset_index()\n",
    "\n",
    "# 결과 보기\n",
    "print(top_service_per_quarter)"
   ]
  },
  {
   "cell_type": "code",
   "execution_count": 40,
   "id": "7eb522bf",
   "metadata": {},
   "outputs": [
    {
     "name": "stdout",
     "output_type": "stream",
     "text": [
      "    기준_년분기_코드 서비스_업종_코드_명   매출_억단위\n",
      "0       20241       한식음식점  38779.9\n",
      "1       20241        일반의원  18978.6\n",
      "2       20241        일반의류  16856.6\n",
      "3       20241         의약품  16667.5\n",
      "4       20241       수산물판매  14150.2\n",
      "5       20242       한식음식점  40530.4\n",
      "6       20242        일반의류  18615.5\n",
      "7       20242        일반의원  17966.4\n",
      "8       20242         의약품  16727.3\n",
      "9       20242        슈퍼마켓  11886.4\n",
      "10      20243       한식음식점  38737.4\n",
      "11      20243        일반의원  18031.1\n",
      "12      20243         의약품  16934.4\n",
      "13      20243        일반의류  16300.3\n",
      "14      20243        슈퍼마켓  11949.8\n",
      "15      20244       한식음식점  42300.1\n",
      "16      20244        일반의원  19282.0\n",
      "17      20244        일반의류  18135.7\n",
      "18      20244         의약품  17221.8\n",
      "19      20244       수산물판매  14168.9\n"
     ]
    }
   ],
   "source": [
    "#분기별 Top 5 추출\n",
    "top5_per_quarter = df_quarterly.sort_values(['기준_년분기_코드', '당월_매출_금액'], ascending=[True, False]) \\\n",
    "                                .groupby('기준_년분기_코드') \\\n",
    "                                .head(5) \\\n",
    "                                .reset_index(drop=True)\n",
    "# 억 단위로 변환\n",
    "top5_per_quarter['매출_억단위'] = (top5_per_quarter['당월_매출_금액'] / 1e8).round(1)\n",
    "\n",
    "# 보기 편하게 정렬된 표 출력\n",
    "print(top5_per_quarter[['기준_년분기_코드', '서비스_업종_코드_명', '매출_억단위']])"
   ]
  },
  {
   "cell_type": "code",
   "execution_count": 43,
   "id": "b27b2a74",
   "metadata": {
    "scrolled": true
   },
   "outputs": [
    {
     "data": {
      "image/png": "[encoded data removed]",
      "text/plain": [
       "<Figure size 1200x600 with 1 Axes>"
      ]
     },
     "metadata": {},
     "output_type": "display_data"
    }
   ],
   "source": [
    "import seaborn as sns\n",
    "import matplotlib.pyplot as plt\n",
    "\n",
    "plt.figure(figsize=(12, 6))\n",
    "barplot = sns.barplot(\n",
    "    data=top5_per_quarter,\n",
    "    x='기준_년분기_코드',\n",
    "    y='매출_억단위',\n",
    "    hue='서비스_업종_코드_명'\n",
    ")\n",
    "\n",
    "# 👉 막대 위에 수치 표시\n",
    "for p in barplot.patches:\n",
    "    height = p.get_height()\n",
    "    if not pd.isna(height):\n",
    "        barplot.annotate(\n",
    "            f'{height:,.0f}',  \n",
    "            (p.get_x() + p.get_width() / 2, height),\n",
    "            ha='center',\n",
    "            va='bottom',\n",
    "            fontsize=9,\n",
    "            color='black',\n",
    "            xytext=(0, 3),  \n",
    "            textcoords='offset points'\n",
    "        )\n",
    "\n",
    "plt.title('분기별 상위 5개 업종 매출 (억 단위)')\n",
    "plt.ylabel('매출 (억 원)')\n",
    "plt.xlabel('기준 분기')\n",
    "plt.legend(title='업종', bbox_to_anchor=(1.05, 1), loc='upper left')\n",
    "plt.tight_layout()\n",
    "plt.show()"
   ]
  },
  {
   "cell_type": "markdown",
   "id": "62ca58ed",
   "metadata": {},
   "source": [
    "행정동별 + 업종별 매출 총합(예정)"
   ]
  }
 ],
 "metadata": {
  "kernelspec": {
   "display_name": "Python 3 (ipykernel)",
   "language": "python",
   "name": "python3"
  },
  "language_info": {
   "codemirror_mode": {
    "name": "ipython",
    "version": 3
   },
   "file_extension": ".py",
   "mimetype": "text/x-python",
   "name": "python",
   "nbconvert_exporter": "python",
   "pygments_lexer": "ipython3",
   "version": "3.11.4"
  }
 },
 "nbformat": 4,
 "nbformat_minor": 5
}
