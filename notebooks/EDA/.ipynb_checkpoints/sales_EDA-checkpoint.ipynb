{
 "cells": [
  {
   "cell_type": "code",
   "execution_count": 1,
   "id": "b142536f",
   "metadata": {},
   "outputs": [
    {
     "name": "stderr",
     "output_type": "stream",
     "text": [
      "C:\\Users\\ghwns\\anaconda3\\Lib\\site-packages\\pandas\\core\\arrays\\masked.py:60: UserWarning: Pandas requires version '1.3.6' or newer of 'bottleneck' (version '1.3.5' currently installed).\n",
      "  from pandas.core import (\n"
     ]
    }
   ],
   "source": [
    "# 📊 Sales Forecasting EDA – Clean Version\n",
    "\n",
    "import pandas as pd\n",
    "import matplotlib.pyplot as plt\n",
    "import seaborn as sns\n",
    "\n",
    "# Set Korean font\n",
    "plt.rc('font', family='Malgun Gothic')\n",
    "plt.rcParams['axes.unicode_minus'] = False"
   ]
  },
  {
   "cell_type": "code",
   "execution_count": 3,
   "id": "4685d8e4",
   "metadata": {},
   "outputs": [],
   "source": [
    "# 📂 Load dataset\n",
    "data_path = r\"C:\\Users\\ghwns\\HJ_git\\sales-forecasting_smallbiz\\data\\sales-forcasting-smallbiz.xlsx\"\n",
    "df = pd.read_excel(data_path)"
   ]
  },
  {
   "cell_type": "code",
   "execution_count": 4,
   "id": "bb4bc923",
   "metadata": {},
   "outputs": [
    {
     "name": "stdout",
     "output_type": "stream",
     "text": [
      "✅ Data Preview\n",
      "<class 'pandas.core.frame.DataFrame'>\n",
      "RangeIndex: 67900 entries, 0 to 67899\n",
      "Data columns (total 53 columns):\n",
      " #   Column           Non-Null Count  Dtype \n",
      "---  ------           --------------  ----- \n",
      " 0   기준_년분기_코드        67900 non-null  int64 \n",
      " 1   행정동_코드           67900 non-null  int64 \n",
      " 2   행정동_코드_명         67900 non-null  object\n",
      " 3   서비스_업종_코드        67900 non-null  object\n",
      " 4   서비스_업종_코드_명      67900 non-null  object\n",
      " 5   당월_매출_금액         67900 non-null  int64 \n",
      " 6   당월_매출_건수         67900 non-null  int64 \n",
      " 7   주중_매출_금액         67900 non-null  int64 \n",
      " 8   주말_매출_금액         67900 non-null  int64 \n",
      " 9   월요일_매출_금액        67900 non-null  int64 \n",
      " 10  화요일_매출_금액        67900 non-null  int64 \n",
      " 11  수요일_매출_금액        67900 non-null  int64 \n",
      " 12  목요일_매출_금액        67900 non-null  int64 \n",
      " 13  금요일_매출_금액        67900 non-null  int64 \n",
      " 14  토요일_매출_금액        67900 non-null  int64 \n",
      " 15  일요일_매출_금액        67900 non-null  int64 \n",
      " 16  시간대_00~06_매출_금액  67900 non-null  int64 \n",
      " 17  시간대_06~11_매출_금액  67900 non-null  int64 \n",
      " 18  시간대_11~14_매출_금액  67900 non-null  int64 \n",
      " 19  시간대_14~17_매출_금액  67900 non-null  int64 \n",
      " 20  시간대_17~21_매출_금액  67900 non-null  int64 \n",
      " 21  시간대_21~24_매출_금액  67900 non-null  int64 \n",
      " 22  남성_매출_금액         67900 non-null  int64 \n",
      " 23  여성_매출_금액         67900 non-null  int64 \n",
      " 24  연령대_10_매출_금액     67900 non-null  int64 \n",
      " 25  연령대_20_매출_금액     67900 non-null  int64 \n",
      " 26  연령대_30_매출_금액     67900 non-null  int64 \n",
      " 27  연령대_40_매출_금액     67900 non-null  int64 \n",
      " 28  연령대_50_매출_금액     67900 non-null  int64 \n",
      " 29  연령대_60_이상_매출_금액  67900 non-null  int64 \n",
      " 30  주중_매출_건수         67900 non-null  int64 \n",
      " 31  주말_매출_건수         67900 non-null  int64 \n",
      " 32  월요일_매출_건수        67900 non-null  int64 \n",
      " 33  화요일_매출_건수        67900 non-null  int64 \n",
      " 34  수요일_매출_건수        67900 non-null  int64 \n",
      " 35  목요일_매출_건수        67900 non-null  int64 \n",
      " 36  금요일_매출_건수        67900 non-null  int64 \n",
      " 37  토요일_매출_건수        67900 non-null  int64 \n",
      " 38  일요일_매출_건수        67900 non-null  int64 \n",
      " 39  시간대_건수~06_매출_건수  67900 non-null  int64 \n",
      " 40  시간대_건수~11_매출_건수  67900 non-null  int64 \n",
      " 41  시간대_건수~14_매출_건수  67900 non-null  int64 \n",
      " 42  시간대_건수~17_매출_건수  67900 non-null  int64 \n",
      " 43  시간대_건수~21_매출_건수  67900 non-null  int64 \n",
      " 44  시간대_건수~24_매출_건수  67900 non-null  int64 \n",
      " 45  남성_매출_건수         67900 non-null  int64 \n",
      " 46  여성_매출_건수         67900 non-null  int64 \n",
      " 47  연령대_10_매출_건수     67900 non-null  int64 \n",
      " 48  연령대_20_매출_건수     67900 non-null  int64 \n",
      " 49  연령대_30_매출_건수     67900 non-null  int64 \n",
      " 50  연령대_40_매출_건수     67900 non-null  int64 \n",
      " 51  연령대_50_매출_건수     67900 non-null  int64 \n",
      " 52  연령대_60_이상_매출_건수  67900 non-null  int64 \n",
      "dtypes: int64(50), object(3)\n",
      "memory usage: 27.5+ MB\n",
      "None\n",
      "기준_년분기_코드          0\n",
      "행정동_코드             0\n",
      "행정동_코드_명           0\n",
      "서비스_업종_코드          0\n",
      "서비스_업종_코드_명        0\n",
      "당월_매출_금액           0\n",
      "당월_매출_건수           0\n",
      "주중_매출_금액           0\n",
      "주말_매출_금액           0\n",
      "월요일_매출_금액          0\n",
      "화요일_매출_금액          0\n",
      "수요일_매출_금액          0\n",
      "목요일_매출_금액          0\n",
      "금요일_매출_금액          0\n",
      "토요일_매출_금액          0\n",
      "일요일_매출_금액          0\n",
      "시간대_00~06_매출_금액    0\n",
      "시간대_06~11_매출_금액    0\n",
      "시간대_11~14_매출_금액    0\n",
      "시간대_14~17_매출_금액    0\n",
      "시간대_17~21_매출_금액    0\n",
      "시간대_21~24_매출_금액    0\n",
      "남성_매출_금액           0\n",
      "여성_매출_금액           0\n",
      "연령대_10_매출_금액       0\n",
      "연령대_20_매출_금액       0\n",
      "연령대_30_매출_금액       0\n",
      "연령대_40_매출_금액       0\n",
      "연령대_50_매출_금액       0\n",
      "연령대_60_이상_매출_금액    0\n",
      "주중_매출_건수           0\n",
      "주말_매출_건수           0\n",
      "월요일_매출_건수          0\n",
      "화요일_매출_건수          0\n",
      "수요일_매출_건수          0\n",
      "목요일_매출_건수          0\n",
      "금요일_매출_건수          0\n",
      "토요일_매출_건수          0\n",
      "일요일_매출_건수          0\n",
      "시간대_건수~06_매출_건수    0\n",
      "시간대_건수~11_매출_건수    0\n",
      "시간대_건수~14_매출_건수    0\n",
      "시간대_건수~17_매출_건수    0\n",
      "시간대_건수~21_매출_건수    0\n",
      "시간대_건수~24_매출_건수    0\n",
      "남성_매출_건수           0\n",
      "여성_매출_건수           0\n",
      "연령대_10_매출_건수       0\n",
      "연령대_20_매출_건수       0\n",
      "연령대_30_매출_건수       0\n",
      "연령대_40_매출_건수       0\n",
      "연령대_50_매출_건수       0\n",
      "연령대_60_이상_매출_건수    0\n",
      "dtype: int64\n"
     ]
    }
   ],
   "source": [
    "# 🧼 Basic inspection\n",
    "print(\"✅ Data Preview\")\n",
    "print(df.info())\n",
    "print(df.isnull().sum())"
   ]
  },
  {
   "cell_type": "code",
   "execution_count": 5,
   "id": "771e653e",
   "metadata": {},
   "outputs": [],
   "source": [
    "# ✂️ Subset relevant columns\n",
    "df_subset = df[[\"기준_년분기_코드\", \"행정동_코드_명\", \"서비스_업종_코드_명\", \"당월_매출_금액\"]].copy()"
   ]
  },
  {
   "cell_type": "code",
   "execution_count": 6,
   "id": "c40365e2",
   "metadata": {},
   "outputs": [],
   "source": [
    "# 🔁 Group by quarter, region, and industry\n",
    "df_grouped = df_subset.groupby(\n",
    "    [\"기준_년분기_코드\", \"행정동_코드_명\", \"서비스_업종_코드_명\"]\n",
    ")[\"당월_매출_금액\"].sum().reset_index()"
   ]
  },
  {
   "cell_type": "code",
   "execution_count": 7,
   "id": "702117c1",
   "metadata": {},
   "outputs": [
    {
     "name": "stdout",
     "output_type": "stream",
     "text": [
      "📉 Bottom revenue combinations\n",
      "       기준_년분기_코드 행정동_코드_명 서비스_업종_코드_명  당월_매출_금액\n",
      "8690       20241      송천동          가구       577\n",
      "32281      20242     천호3동      가전제품수리       630\n",
      "59232      20244   성수2가1동          가구      1145\n",
      "38289      20243     면목7동       자동차미용      1216\n",
      "46187      20243    원효로1동         핸드폰      3460\n"
     ]
    }
   ],
   "source": [
    "# 📉 Sort for exploration (ascending order)\n",
    "df_grouped_sorted = df_grouped.sort_values(by=[\"당월_매출_금액\"], ascending=True)\n",
    "print(\"📉 Bottom revenue combinations\")\n",
    "print(df_grouped_sorted.head())"
   ]
  },
  {
   "cell_type": "code",
   "execution_count": 8,
   "id": "e50bc3e9",
   "metadata": {},
   "outputs": [],
   "source": [
    "# 📈 Sort by quarter and revenue for trend analysis\n",
    "df_grouped_quarter = df_grouped.sort_values(by=[\"기준_년분기_코드\", \"당월_매출_금액\"], ascending=True)"
   ]
  },
  {
   "cell_type": "code",
   "execution_count": 9,
   "id": "1f007e51",
   "metadata": {},
   "outputs": [
    {
     "name": "stdout",
     "output_type": "stream",
     "text": [
      "🏆 Top-grossing industry per quarter:\n",
      "   기준_년분기_코드 서비스_업종_코드_명       당월_매출_금액\n",
      "0      20241       한식음식점  3877994687371\n",
      "1      20242       한식음식점  4053035124812\n",
      "2      20243       한식음식점  3873742135864\n",
      "3      20244       한식음식점  4230012388626\n"
     ]
    }
   ],
   "source": [
    "# 🏆 Top revenue industries per quarter (nationwide sum)\n",
    "df_quarterly = df_grouped.groupby(\n",
    "    ['기준_년분기_코드', '서비스_업종_코드_명']\n",
    ")[\"당월_매출_금액\"].sum().reset_index()\n",
    "\n",
    "top_service_per_quarter = (\n",
    "    df_quarterly.sort_values('당월_매출_금액', ascending=False)\n",
    "    .groupby('기준_년분기_코드')\n",
    "    .first()\n",
    "    .reset_index()\n",
    ")\n",
    "\n",
    "print(\"🏆 Top-grossing industry per quarter:\")\n",
    "print(top_service_per_quarter)"
   ]
  }
 ],
 "metadata": {
  "kernelspec": {
   "display_name": "Python 3 (ipykernel)",
   "language": "python",
   "name": "python3"
  },
  "language_info": {
   "codemirror_mode": {
    "name": "ipython",
    "version": 3
   },
   "file_extension": ".py",
   "mimetype": "text/x-python",
   "name": "python",
   "nbconvert_exporter": "python",
   "pygments_lexer": "ipython3",
   "version": "3.11.4"
  }
 },
 "nbformat": 4,
 "nbformat_minor": 5
}
